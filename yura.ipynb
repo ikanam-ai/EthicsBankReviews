{
 "cells": [
  {
   "cell_type": "code",
   "execution_count": 64,
   "id": "ef214c9c",
   "metadata": {
    "cellId": "o21ylkfc77wnzyzul4b2i"
   },
   "outputs": [],
   "source": [
    "#g1.1\n",
    "# %pip list\n",
    "# %pip install razdel"
   ]
  },
  {
   "cell_type": "code",
   "execution_count": 83,
   "id": "2a6c8efa",
   "metadata": {
    "cellId": "ojouh53e0jcqqryb1kus8"
   },
   "outputs": [],
   "source": [
    "# nltk.download('stopwords')"
   ]
  },
  {
   "cell_type": "code",
   "execution_count": 89,
   "id": "ef95df71",
   "metadata": {
    "cellId": "bns4o4qu8gc6oouqgtfw6d"
   },
   "outputs": [],
   "source": [
    "import numpy as np\n",
    "import pandas as pd\n",
    "import torch\n",
    "import matplotlib.pyplot as plt\n",
    "from sklearn.preprocessing import LabelEncoder\n",
    "import seaborn as sns\n",
    "\n",
    "import nltk\n",
    "from nltk.corpus import stopwords\n",
    "from nltk.stem.snowball import SnowballStemmer\n",
    "from nltk.tokenize import word_tokenize\n",
    "import re\n",
    "\n",
    "import razdel\n",
    "import pymorphy2\n",
    "from tqdm import tqdm\n",
    "morph = pymorphy2.MorphAnalyzer()"
   ]
  },
  {
   "cell_type": "code",
   "execution_count": 30,
   "id": "496dc2ae",
   "metadata": {
    "cellId": "bkh2pl188t8f9pheivwqzi"
   },
   "outputs": [],
   "source": [
    "# banks_categ = pd.read_csv('/home/jupyter/mnt/s3/hack-data/hse/bank-categories.csv')\n",
    "# banks_sent = pd.read_csv('/home/jupyter/mnt/s3/hack-data/hse/bank-sentiment.csv')\n",
    "# banks_df = pd.read_csv('/home/jupyter/mnt/s3/hack-data/hse/banki.csv')\n",
    "# sentiment_df = pd.read_csv('/home/jupyter/mnt/s3/hack-data/hse/sentiment.csv')\n",
    "# train_df = pd.read_csv('/home/jupyter/mnt/s3/hack-data/hse/train.csv', index_col=0)\n",
    "# categories_df = pd.read_csv('/home/jupyter/mnt/s3/hack-data/hse/categories.csv')"
   ]
  },
  {
   "cell_type": "code",
   "execution_count": 73,
   "id": "b8b1e7c5",
   "metadata": {
    "cellId": "bavjs2iemcu9oh9v4w77l"
   },
   "outputs": [],
   "source": [
    "# banks_categ.head(5)"
   ]
  },
  {
   "cell_type": "code",
   "execution_count": 72,
   "id": "945cbe66",
   "metadata": {
    "cellId": "siv6f2e2ya5jv6pzhmykt"
   },
   "outputs": [],
   "source": [
    "# banks_sent.head(5)"
   ]
  },
  {
   "cell_type": "code",
   "execution_count": 71,
   "id": "8d7fe4fd",
   "metadata": {
    "cellId": "rejt3xrczy5ut4qltplqi"
   },
   "outputs": [],
   "source": [
    "# banks_df.head(5)"
   ]
  },
  {
   "cell_type": "code",
   "execution_count": 70,
   "id": "daff0982",
   "metadata": {
    "cellId": "ntz24cawhv83k8bkfjt1f"
   },
   "outputs": [],
   "source": [
    "# sentiment_df.head(5)"
   ]
  },
  {
   "cell_type": "code",
   "execution_count": 69,
   "id": "363c149d",
   "metadata": {
    "cellId": "wmug2465ewsu5p8pqh478"
   },
   "outputs": [],
   "source": [
    "# train_df.head(5)"
   ]
  },
  {
   "cell_type": "code",
   "execution_count": 68,
   "id": "52597868",
   "metadata": {
    "cellId": "rgklv5c9oxxa8go4ztlsj"
   },
   "outputs": [],
   "source": [
    "# categories_df.head(5)"
   ]
  },
  {
   "cell_type": "code",
   "execution_count": 24,
   "id": "2312382a",
   "metadata": {
    "cellId": "db352jm5zj5ihvp5pjv67e"
   },
   "outputs": [
    {
     "name": "stdout",
     "output_type": "stream",
     "text": [
      "(19361, 5)\n",
      "(7300770, 5)\n",
      "(7300365, 7)\n"
     ]
    }
   ],
   "source": [
    "print(train_df.shape)\n",
    "print(sentiment_df.shape)\n",
    "print(categories_df.shape)"
   ]
  },
  {
   "cell_type": "code",
   "execution_count": 28,
   "id": "452f275f",
   "metadata": {
    "cellId": "wm2lh88qdqli0fzbkyic7s"
   },
   "outputs": [
    {
     "data": {
      "text/plain": [
       "Communication    7193\n",
       "?                5926\n",
       "Quality          5630\n",
       "Price             366\n",
       "Safety            246\n",
       "Name: 1category, dtype: int64"
      ]
     },
     "metadata": {},
     "output_type": "display_data"
    },
    {
     "name": "stdout",
     "output_type": "stream",
     "text": [
      "----------------------------------------------\n"
     ]
    },
    {
     "data": {
      "text/plain": [
       "NaN              18362\n",
       "Communication      474\n",
       "Quality            356\n",
       "Price              114\n",
       "Safety              55\n",
       "Name: 2category, dtype: int64"
      ]
     },
     "metadata": {},
     "output_type": "display_data"
    },
    {
     "name": "stdout",
     "output_type": "stream",
     "text": [
      "----------------------------------------------\n"
     ]
    },
    {
     "data": {
      "text/plain": [
       "−    10192\n",
       "+     6262\n",
       "?     2907\n",
       "Name: sentiment, dtype: int64"
      ]
     },
     "metadata": {},
     "output_type": "display_data"
    },
    {
     "name": "stdout",
     "output_type": "stream",
     "text": [
      "----------------------------------------------\n"
     ]
    }
   ],
   "source": [
    "for i in ['1category','2category','sentiment']:\n",
    "    display(train_df[i].value_counts(dropna=False))\n",
    "    print('----------------------------------------------')"
   ]
  },
  {
   "cell_type": "code",
   "execution_count": 41,
   "id": "2691e925",
   "metadata": {
    "cellId": "ex21znn1wkndwk6ueucc9s"
   },
   "outputs": [],
   "source": [
    "categ_columns = ['Empty', 'Communication', 'Price', 'Quality', 'Safety']\n",
    "\n",
    "df_copy = categories_df.drop(columns=['ID','sent_id']).copy()\n",
    "labelencoder=LabelEncoder()\n",
    "for column in categ_columns:\n",
    "    df_copy[column] = labelencoder.fit_transform(df_copy[column])"
   ]
  },
  {
   "cell_type": "code",
   "execution_count": 42,
   "id": "e8afcc6f",
   "metadata": {
    "cellId": "8s1e8o8phk75fqvvswvdj"
   },
   "outputs": [
    {
     "data": {
      "image/png": "[encoded data removed]",
      "text/plain": [
       "<Figure size 1080x720 with 2 Axes>"
      ]
     },
     "metadata": {
      "needs_background": "light"
     },
     "output_type": "display_data"
    }
   ],
   "source": [
    "plt.figure(figsize=(15,10))\n",
    "\n",
    "corr_matrix = df_copy.corr()\n",
    "mask = np.tril(corr_matrix, k = -1).astype(bool)\n",
    "# display(corr_matrix.where(mask))\n",
    "\n",
    "mymap = sns.diverging_palette(240, 240, as_cmap = True)\n",
    "\n",
    "sns.heatmap(corr_matrix.where(mask), vmin = -1, vmax = 1,\n",
    "            annot=True, fmt='.2f', center=0, cmap=mymap);"
   ]
  },
  {
   "cell_type": "code",
   "execution_count": 32,
   "id": "680cbc56",
   "metadata": {
    "cellId": "3isqakbubdvhroxv6u43r4"
   },
   "outputs": [
    {
     "data": {
      "application/vnd.jupyter.widget-view+json": {
       "model_id": "71c6e5ad2e7c4014868a2cb911c46872",
       "version_major": 2,
       "version_minor": 0
      },
      "text/plain": [
       "HBox(children=(HTML(value='Downloading'), FloatProgress(value=0.0, max=24.0), HTML(value='')))"
      ]
     },
     "metadata": {},
     "output_type": "display_data"
    },
    {
     "name": "stdout",
     "output_type": "stream",
     "text": [
      "\n"
     ]
    },
    {
     "data": {
      "application/vnd.jupyter.widget-view+json": {
       "model_id": "2587cebd3cfc4f90b0f80088633f7eb8",
       "version_major": 2,
       "version_minor": 0
      },
      "text/plain": [
       "HBox(children=(HTML(value='Downloading'), FloatProgress(value=0.0, max=642.0), HTML(value='')))"
      ]
     },
     "metadata": {},
     "output_type": "display_data"
    },
    {
     "name": "stdout",
     "output_type": "stream",
     "text": [
      "\n"
     ]
    },
    {
     "data": {
      "application/vnd.jupyter.widget-view+json": {
       "model_id": "292208bbd4ce4b6b919f9f775de034a7",
       "version_major": 2,
       "version_minor": 0
      },
      "text/plain": [
       "HBox(children=(HTML(value='Downloading'), FloatProgress(value=0.0, max=1649718.0), HTML(value='')))"
      ]
     },
     "metadata": {},
     "output_type": "display_data"
    },
    {
     "name": "stdout",
     "output_type": "stream",
     "text": [
      "\n"
     ]
    },
    {
     "data": {
      "application/vnd.jupyter.widget-view+json": {
       "model_id": "7316e183d42d42e7852e87626e4666f2",
       "version_major": 2,
       "version_minor": 0
      },
      "text/plain": [
       "HBox(children=(HTML(value='Downloading'), FloatProgress(value=0.0, max=112.0), HTML(value='')))"
      ]
     },
     "metadata": {},
     "output_type": "display_data"
    },
    {
     "name": "stdout",
     "output_type": "stream",
     "text": [
      "\n"
     ]
    },
    {
     "data": {
      "application/vnd.jupyter.widget-view+json": {
       "model_id": "0ef843d3e6c643908afa255fd25dbd49",
       "version_major": 2,
       "version_minor": 0
      },
      "text/plain": [
       "HBox(children=(HTML(value='Downloading'), FloatProgress(value=0.0, max=714355318.0), HTML(value='')))"
      ]
     },
     "metadata": {},
     "output_type": "display_data"
    },
    {
     "name": "stdout",
     "output_type": "stream",
     "text": [
      "\n"
     ]
    },
    {
     "name": "stderr",
     "output_type": "stream",
     "text": [
      "Some weights of the model checkpoint at DeepPavlov/rubert-base-cased were not used when initializing BertModel: ['cls.predictions.transform.LayerNorm.bias', 'cls.seq_relationship.weight', 'cls.predictions.transform.dense.bias', 'cls.predictions.decoder.weight', 'cls.predictions.decoder.bias', 'cls.predictions.transform.LayerNorm.weight', 'cls.seq_relationship.bias', 'cls.predictions.transform.dense.weight', 'cls.predictions.bias']\n",
      "- This IS expected if you are initializing BertModel from the checkpoint of a model trained on another task or with another architecture (e.g. initializing a BertForSequenceClassification model from a BertForPreTraining model).\n",
      "- This IS NOT expected if you are initializing BertModel from the checkpoint of a model that you expect to be exactly identical (initializing a BertForSequenceClassification model from a BertForSequenceClassification model).\n"
     ]
    }
   ],
   "source": [
    "from catboost import CatBoostClassifier\n",
    "from transformers import AutoTokenizer, AutoModel\n",
    "\n",
    "tokenizer = AutoTokenizer.from_pretrained(\"DeepPavlov/rubert-base-cased\")\n",
    "model = AutoModel.from_pretrained(\"DeepPavlov/rubert-base-cased\")"
   ]
  },
  {
   "cell_type": "code",
   "execution_count": 74,
   "id": "cd0399b3",
   "metadata": {
    "cellId": "sia8nojfqao94raaz4nzn"
   },
   "outputs": [],
   "source": [
    "def preprocess_text(text):\n",
    "    # Convert to lowercase\n",
    "    text = text.lower()\n",
    "    \n",
    "    # Remove URLs\n",
    "    text = re.sub(r'http\\S+', '', text)\n",
    "    \n",
    "    # Remove non-alphabetic characters\n",
    "    text = re.sub(r'[^а-яА-Я\\s]', '', text)\n",
    "    \n",
    "    # Tokenize text\n",
    "    tokens = word_tokenize(text, language='russian')\n",
    "    \n",
    "    # Remove stop words\n",
    "    stop_words = set(stopwords.words('russian'))\n",
    "    tokens = [token for token in tokens if token not in stop_words]\n",
    "    \n",
    "#     # Stem tokens\n",
    "#     stemmer = SnowballStemmer('russian')\n",
    "#     tokens = [stemmer.stem(token) for token in tokens]\n",
    "    \n",
    "    # Join tokens back into a string\n",
    "    text = ' '.join(tokens)\n",
    "    \n",
    "    return text"
   ]
  },
  {
   "cell_type": "code",
   "execution_count": 75,
   "id": "9f5fa40d",
   "metadata": {
    "cellId": "1j4qkryavvorunm2bwspvq"
   },
   "outputs": [],
   "source": [
    "train_df['clean_text'] = train_df['sentence'].apply(preprocess_text)"
   ]
  },
  {
   "cell_type": "code",
   "execution_count": 76,
   "id": "84ae877c",
   "metadata": {
    "cellId": "nrwmkgx63tm012p6gup9xuy"
   },
   "outputs": [],
   "source": [
    "from sklearn.model_selection import train_test_split\n",
    "X = train_df['clean_text']\n",
    "y = train_df['sentiment']\n",
    "\n",
    "\n",
    "X_train, X_test, y_train, y_test = train_test_split(X, y, test_size=0.25, random_state=42)"
   ]
  },
  {
   "cell_type": "code",
   "execution_count": 63,
   "id": "a363e855",
   "metadata": {
    "cellId": "7dnlcfquzpef6fauiir6d6"
   },
   "outputs": [
    {
     "ename": "TypeError",
     "evalue": "TextEncodeInput must be Union[TextInputSequence, Tuple[InputSequence, InputSequence]]",
     "output_type": "error",
     "traceback": [
      "\u001b[0;31m---------------------------------------------------------------------------\u001b[0m",
      "\u001b[0;31mTypeError\u001b[0m                                 Traceback (most recent call last)",
      "\u001b[0;32m<ipython-input-62-d391298aa3e3>\u001b[0m in \u001b[0;36m<module>\u001b[0;34m\u001b[0m\n\u001b[1;32m      1\u001b[0m \u001b[0;31m# text = \"This is a sample text to classify the tonality.\"\u001b[0m\u001b[0;34m\u001b[0m\u001b[0;34m\u001b[0m\u001b[0;34m\u001b[0m\u001b[0m\n\u001b[0;32m----> 2\u001b[0;31m \u001b[0mtokens\u001b[0m \u001b[0;34m=\u001b[0m \u001b[0mtokenizer\u001b[0m\u001b[0;34m.\u001b[0m\u001b[0mencode\u001b[0m\u001b[0;34m(\u001b[0m\u001b[0mX_train\u001b[0m\u001b[0;34m,\u001b[0m \u001b[0mpadding\u001b[0m\u001b[0;34m=\u001b[0m\u001b[0;32mTrue\u001b[0m\u001b[0;34m,\u001b[0m \u001b[0mtruncation\u001b[0m\u001b[0;34m=\u001b[0m\u001b[0;32mTrue\u001b[0m\u001b[0;34m,\u001b[0m \u001b[0mmax_length\u001b[0m\u001b[0;34m=\u001b[0m\u001b[0;36m128\u001b[0m\u001b[0;34m,\u001b[0m \u001b[0mreturn_tensors\u001b[0m\u001b[0;34m=\u001b[0m\u001b[0;34m'pt'\u001b[0m\u001b[0;34m)\u001b[0m\u001b[0;34m\u001b[0m\u001b[0;34m\u001b[0m\u001b[0m\n\u001b[0m\u001b[1;32m      3\u001b[0m \u001b[0;31m#\u001b[0m\u001b[0;34m\u001b[0m\u001b[0;34m\u001b[0m\u001b[0;34m\u001b[0m\u001b[0m\n",
      "\u001b[0;32m/usr/local/lib/python3.8/dist-packages/transformers/tokenization_utils_base.py\u001b[0m in \u001b[0;36mencode\u001b[0;34m(self, text, text_pair, add_special_tokens, padding, truncation, max_length, stride, return_tensors, **kwargs)\u001b[0m\n\u001b[1;32m   2174\u001b[0m                 ``convert_tokens_to_ids`` method).\n\u001b[1;32m   2175\u001b[0m         \"\"\"\n\u001b[0;32m-> 2176\u001b[0;31m         encoded_inputs = self.encode_plus(\n\u001b[0m\u001b[1;32m   2177\u001b[0m             \u001b[0mtext\u001b[0m\u001b[0;34m,\u001b[0m\u001b[0;34m\u001b[0m\u001b[0;34m\u001b[0m\u001b[0m\n\u001b[1;32m   2178\u001b[0m             \u001b[0mtext_pair\u001b[0m\u001b[0;34m=\u001b[0m\u001b[0mtext_pair\u001b[0m\u001b[0;34m,\u001b[0m\u001b[0;34m\u001b[0m\u001b[0;34m\u001b[0m\u001b[0m\n",
      "\u001b[0;32m/usr/local/lib/python3.8/dist-packages/transformers/tokenization_utils_base.py\u001b[0m in \u001b[0;36mencode_plus\u001b[0;34m(self, text, text_pair, add_special_tokens, padding, truncation, max_length, stride, is_split_into_words, pad_to_multiple_of, return_tensors, return_token_type_ids, return_attention_mask, return_overflowing_tokens, return_special_tokens_mask, return_offsets_mapping, return_length, verbose, **kwargs)\u001b[0m\n\u001b[1;32m   2501\u001b[0m         )\n\u001b[1;32m   2502\u001b[0m \u001b[0;34m\u001b[0m\u001b[0m\n\u001b[0;32m-> 2503\u001b[0;31m         return self._encode_plus(\n\u001b[0m\u001b[1;32m   2504\u001b[0m             \u001b[0mtext\u001b[0m\u001b[0;34m=\u001b[0m\u001b[0mtext\u001b[0m\u001b[0;34m,\u001b[0m\u001b[0;34m\u001b[0m\u001b[0;34m\u001b[0m\u001b[0m\n\u001b[1;32m   2505\u001b[0m             \u001b[0mtext_pair\u001b[0m\u001b[0;34m=\u001b[0m\u001b[0mtext_pair\u001b[0m\u001b[0;34m,\u001b[0m\u001b[0;34m\u001b[0m\u001b[0;34m\u001b[0m\u001b[0m\n",
      "\u001b[0;32m/usr/local/lib/python3.8/dist-packages/transformers/tokenization_utils_fast.py\u001b[0m in \u001b[0;36m_encode_plus\u001b[0;34m(self, text, text_pair, add_special_tokens, padding_strategy, truncation_strategy, max_length, stride, is_split_into_words, pad_to_multiple_of, return_tensors, return_token_type_ids, return_attention_mask, return_overflowing_tokens, return_special_tokens_mask, return_offsets_mapping, return_length, verbose, **kwargs)\u001b[0m\n\u001b[1;32m    477\u001b[0m \u001b[0;34m\u001b[0m\u001b[0m\n\u001b[1;32m    478\u001b[0m         \u001b[0mbatched_input\u001b[0m \u001b[0;34m=\u001b[0m \u001b[0;34m[\u001b[0m\u001b[0;34m(\u001b[0m\u001b[0mtext\u001b[0m\u001b[0;34m,\u001b[0m \u001b[0mtext_pair\u001b[0m\u001b[0;34m)\u001b[0m\u001b[0;34m]\u001b[0m \u001b[0;32mif\u001b[0m \u001b[0mtext_pair\u001b[0m \u001b[0;32melse\u001b[0m \u001b[0;34m[\u001b[0m\u001b[0mtext\u001b[0m\u001b[0;34m]\u001b[0m\u001b[0;34m\u001b[0m\u001b[0;34m\u001b[0m\u001b[0m\n\u001b[0;32m--> 479\u001b[0;31m         batched_output = self._batch_encode_plus(\n\u001b[0m\u001b[1;32m    480\u001b[0m             \u001b[0mbatched_input\u001b[0m\u001b[0;34m,\u001b[0m\u001b[0;34m\u001b[0m\u001b[0;34m\u001b[0m\u001b[0m\n\u001b[1;32m    481\u001b[0m             \u001b[0mis_split_into_words\u001b[0m\u001b[0;34m=\u001b[0m\u001b[0mis_split_into_words\u001b[0m\u001b[0;34m,\u001b[0m\u001b[0;34m\u001b[0m\u001b[0;34m\u001b[0m\u001b[0m\n",
      "\u001b[0;32m/usr/local/lib/python3.8/dist-packages/transformers/tokenization_utils_fast.py\u001b[0m in \u001b[0;36m_batch_encode_plus\u001b[0;34m(self, batch_text_or_text_pairs, add_special_tokens, padding_strategy, truncation_strategy, max_length, stride, is_split_into_words, pad_to_multiple_of, return_tensors, return_token_type_ids, return_attention_mask, return_overflowing_tokens, return_special_tokens_mask, return_offsets_mapping, return_length, verbose)\u001b[0m\n\u001b[1;32m    404\u001b[0m         )\n\u001b[1;32m    405\u001b[0m \u001b[0;34m\u001b[0m\u001b[0m\n\u001b[0;32m--> 406\u001b[0;31m         encodings = self._tokenizer.encode_batch(\n\u001b[0m\u001b[1;32m    407\u001b[0m             \u001b[0mbatch_text_or_text_pairs\u001b[0m\u001b[0;34m,\u001b[0m\u001b[0;34m\u001b[0m\u001b[0;34m\u001b[0m\u001b[0m\n\u001b[1;32m    408\u001b[0m             \u001b[0madd_special_tokens\u001b[0m\u001b[0;34m=\u001b[0m\u001b[0madd_special_tokens\u001b[0m\u001b[0;34m,\u001b[0m\u001b[0;34m\u001b[0m\u001b[0;34m\u001b[0m\u001b[0m\n",
      "\u001b[0;31mTypeError\u001b[0m: TextEncodeInput must be Union[TextInputSequence, Tuple[InputSequence, InputSequence]]"
     ]
    }
   ],
   "source": [
    "# text = \"This is a sample text to classify the tonality.\"\n",
    "tokens = tokenizer.encode(X_train, padding=True, truncation=True, max_length=128, return_tensors='pt')"
   ]
  },
  {
   "cell_type": "code",
   "execution_count": 40,
   "id": "9f6a9b87",
   "metadata": {
    "cellId": "t3ds2kfmfzhvlbqkm4qk"
   },
   "outputs": [],
   "source": [
    "with torch.no_grad():\n",
    "    outputs = model(tokens)\n",
    "    embeddings = outputs.last_hidden_state"
   ]
  },
  {
   "cell_type": "code",
   "execution_count": null,
   "id": "756b0d2e",
   "metadata": {
    "cellId": "tfzdp01oitgwm40rj6dweh"
   },
   "outputs": [],
   "source": [
    "# Use the embeddings as input to the classification model\n",
    "X_train = embeddings.numpy()\n",
    "y_train = labels\n",
    "\n",
    "# Train the CatBoost model\n",
    "clf = CatBoostClassifier()\n",
    "clf.fit(X_train, y_train)"
   ]
  },
  {
   "cell_type": "code",
   "execution_count": 80,
   "id": "d30cd7b4",
   "metadata": {
    "cellId": "hq7pnl5nh4g8zkr06h0uy"
   },
   "outputs": [],
   "source": [
    "# %pip install Mystem --user"
   ]
  },
  {
   "cell_type": "code",
   "execution_count": 103,
   "id": "b402e54f",
   "metadata": {
    "cellId": "4n1d9krnt3xqv7u8hjbpdk"
   },
   "outputs": [
    {
     "data": {
      "text/plain": [
       "15"
      ]
     },
     "execution_count": 103,
     "metadata": {},
     "output_type": "execute_result"
    }
   ],
   "source": []
  },
  {
   "cell_type": "code",
   "execution_count": 98,
   "id": "b7b62ea5",
   "metadata": {
    "cellId": "69nqd8qwr2p0iakiv3le8j"
   },
   "outputs": [
    {
     "name": "stderr",
     "output_type": "stream",
     "text": [
      "100%|██████████| 15/15 [00:00<00:00, 4234.10it/s]\n"
     ]
    }
   ],
   "source": [
    "#!c1.32\n",
    "# from pymystem3 import Mystem\n",
    "from tqdm import tqdm\n",
    "\n",
    "from joblib import Parallel, delayed\n",
    "import pymorphy2\n",
    "\n",
    "batch_size = 1000\n",
    "\n",
    "text_batch = [X_train[i: i + batch_size] for i in range(0, len(X_train), batch_size)]\n",
    "\n",
    "def lemmatize(text):\n",
    "#     m = Mystem()\n",
    "    morph = pymorphy2.MorphAnalyzer()\n",
    "    merged_text = \"|\".join(text)\n",
    "\n",
    "    doc = []\n",
    "    res = []\n",
    "\n",
    "    for t in morph.normal_forms(merged_text):\n",
    "        if t != '|':\n",
    "            doc.append(t)\n",
    "        else:\n",
    "            res.append(doc)\n",
    "            doc = []\n",
    "\n",
    "    return res\n",
    "\n",
    "# Вот здесь тоже немного магии :)\n",
    "processed_texts = Parallel(n_jobs=-1)(delayed(lemmatize)(t) for t in tqdm(text_batch))"
   ]
  },
  {
   "cell_type": "code",
   "execution_count": null,
   "id": "0ce859c4",
   "metadata": {
    "cellId": "5p63xgjptbsgrdm0ys8hs"
   },
   "outputs": [],
   "source": []
  }
 ],
 "metadata": {
  "language_info": {
   "codemirror_mode": {
    "name": "ipython",
    "version": 3
   },
   "file_extension": ".py",
   "mimetype": "text/x-python",
   "name": "python",
   "nbconvert_exporter": "python",
   "pygments_lexer": "ipython3",
   "version": "3.7.7"
  },
  "notebookId": "58b560a8-3583-4b1a-ac06-fc61fc103a19",
  "notebookPath": "hsehack_2023/yura.ipynb"
 },
 "nbformat": 4,
 "nbformat_minor": 5
}

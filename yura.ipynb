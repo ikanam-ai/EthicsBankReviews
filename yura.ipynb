{
 "cells": [
  {
   "cell_type": "code",
   "execution_count": null,
   "id": "25e6120d",
   "metadata": {
    "cellId": "o21ylkfc77wnzyzul4b2i"
   },
   "outputs": [],
   "source": [
    "#g1.1\n",
    "# %pip list"
   ]
  },
  {
   "cell_type": "code",
   "execution_count": 1,
   "id": "a34af477",
   "metadata": {
    "cellId": "bns4o4qu8gc6oouqgtfw6d"
   },
   "outputs": [],
   "source": [
    "import numpy as np\n",
    "import pandas as pd\n",
    "import torch\n",
    "import matplotlib.pyplot as plt"
   ]
  }
 ],
 "metadata": {
  "language_info": {
   "codemirror_mode": {
    "name": "ipython",
    "version": 3
   },
   "file_extension": ".py",
   "mimetype": "text/x-python",
   "name": "python",
   "nbconvert_exporter": "python",
   "pygments_lexer": "ipython3",
   "version": "3.7.7"
  },
  "notebookId": "58b560a8-3583-4b1a-ac06-fc61fc103a19",
  "notebookPath": "hsehack_2023/yura.ipynb"
 },
 "nbformat": 4,
 "nbformat_minor": 5
}

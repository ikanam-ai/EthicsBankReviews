{
  "nbformat" : 4,
  "nbformat_minor" : 5,
  "metadata" : {
    "notebookPath" : "hsehack_2023/yura.ipynb",
    "language_info" : {
      "codemirror_mode" : {
        "name" : "ipython",
        "version" : 3
      },
      "file_extension" : ".py",
      "mimetype" : "text/x-python",
      "name" : "python",
      "nbconvert_exporter" : "python",
      "pygments_lexer" : "ipython3",
      "version" : "3.7.7"
    },
    "notebookId" : "58b560a8-3583-4b1a-ac06-fc61fc103a19",
    "kernelspec" : {
      "name" : "python3",
      "description" : "IPython kernel implementation for DataSphere",
      "spec" : {
        "language" : "python",
        "display_name" : "DataSphere Kernel",
        "codemirror_mode" : "python",
        "argv" : [ "/bin/true" ],
        "env" : { },
        "help_links" : [ ],
        "metadata" : {
          "app" : "YANDEX_DATASPHERE"
        }
      },
      "resources" : { },
      "display_name" : "DataSphere Kernel"
    }
  },
  "cells" : [ {
    "cell_type" : "code",
    "source" : [ "#g1.1\n", "# %pip list" ],
    "metadata" : {
      "cellId" : "o21ylkfc77wnzyzul4b2i"
    },
    "outputs" : [ ],
    "execution_count" : null,
    "id" : "cc51ccd8"
  }, {
    "cell_type" : "code",
    "source" : [ "import numpy as np\n", "import pandas as pd\n", "import torch\n", "import matplotlib.pyplot as plt" ],
    "metadata" : {
      "cellId" : "bns4o4qu8gc6oouqgtfw6d"
    },
    "outputs" : [ ],
    "execution_count" : 1,
    "id" : "54b4ae10"
  } ]
}
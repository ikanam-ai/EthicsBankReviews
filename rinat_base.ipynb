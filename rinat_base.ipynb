{
 "cells": [
  {
   "cell_type": "code",
   "execution_count": 122,
   "id": "76057240",
   "metadata": {
    "cellId": "91cfx45ovsit51f2dxx9"
   },
   "outputs": [
    {
     "name": "stderr",
     "output_type": "stream",
     "text": [
      "[nltk_data] Downloading package punkt to /home/jupyter/nltk_data...\n",
      "[nltk_data]   Package punkt is already up-to-date!\n",
      "[nltk_data] Downloading package stopwords to\n",
      "[nltk_data]     /home/jupyter/nltk_data...\n",
      "[nltk_data]   Package stopwords is already up-to-date!\n"
     ]
    },
    {
     "data": {
      "text/plain": [
       "True"
      ]
     },
     "execution_count": 122,
     "metadata": {},
     "output_type": "execute_result"
    }
   ],
   "source": [
    "import numpy as np\n",
    "import pandas as pd\n",
    "import torch\n",
    "import torch.nn as nn\n",
    "import torch.nn.functional as F\n",
    "import torch.optim as optim\n",
    "from torchvision import datasets, transforms\n",
    "from torch.optim.lr_scheduler import StepLR\n",
    "import scipy\n",
    "import plotly.express as px\n",
    "\n",
    "import re\n",
    "\n",
    "import nltk\n",
    "from nltk.corpus import stopwords\n",
    "from nltk.stem.snowball import SnowballStemmer\n",
    "from nltk.tokenize import word_tokenize\n",
    "import re\n",
    "\n",
    "nltk.download('punkt')\n",
    "nltk.download('stopwords')"
   ]
  },
  {
   "cell_type": "code",
   "execution_count": 123,
   "id": "cc6ebd52",
   "metadata": {
    "cellId": "6dlpcqmdi3dbem72xf9jmv"
   },
   "outputs": [],
   "source": [
    "# sentiment = pd.read_csv('/home/jupyter/mnt/s3/hack-data/hse/sentiment.csv')"
   ]
  },
  {
   "cell_type": "code",
   "execution_count": 124,
   "id": "78510947",
   "metadata": {
    "cellId": "wi717p8is8qvskar38fxd"
   },
   "outputs": [],
   "source": [
    "# banki = pd.read_csv('/home/jupyter/mnt/s3/hack-data/hse/banki.csv')"
   ]
  },
  {
   "cell_type": "code",
   "execution_count": 125,
   "id": "c59eb0ac",
   "metadata": {
    "cellId": "1hysydgc9amcpq5x8io12"
   },
   "outputs": [],
   "source": [
    "# bank_sentiment = pd.read_csv('/home/jupyter/mnt/s3/hack-data/hse/bank-sentiment.csv')"
   ]
  },
  {
   "cell_type": "code",
   "execution_count": 126,
   "id": "694286fc",
   "metadata": {
    "cellId": "ua6mrifjb1jchi8smrng7m"
   },
   "outputs": [],
   "source": [
    "train = pd.read_csv('/home/jupyter/mnt/s3/hack-data/hse/train.csv', index_col=0)"
   ]
  },
  {
   "cell_type": "code",
   "execution_count": 127,
   "id": "4ee8ed6f",
   "metadata": {
    "cellId": "62kql9ax2j7bl3yds1xew"
   },
   "outputs": [],
   "source": [
    "def preprocess_text(text):\n",
    "    # Convert to lowercase\n",
    "    text = text.lower()\n",
    "    \n",
    "    # Remove URLs\n",
    "    text = re.sub(r'http\\S+', '', text)\n",
    "    \n",
    "    # Remove non-alphabetic characters\n",
    "    text = re.sub(r'[^а-яА-Я\\s]', '', text)\n",
    "    \n",
    "    # Tokenize text\n",
    "    tokens = word_tokenize(text, language='russian')\n",
    "    \n",
    "    # Remove stop words\n",
    "    stop_words = set(stopwords.words('russian'))\n",
    "    tokens = [token for token in tokens if token not in stop_words]\n",
    "    \n",
    "    # Stem tokens\n",
    "    stemmer = SnowballStemmer('russian')\n",
    "    tokens = [stemmer.stem(token) for token in tokens]\n",
    "    \n",
    "    # Join tokens back into a string\n",
    "    text = ' '.join(tokens)\n",
    "    \n",
    "    return text"
   ]
  },
  {
   "cell_type": "code",
   "execution_count": 128,
   "id": "4ad43260",
   "metadata": {
    "cellId": "fnyc92etsirthwba7pfabc"
   },
   "outputs": [],
   "source": [
    "train['clean_text'] = train['sentence'].apply(preprocess_text)"
   ]
  },
  {
   "cell_type": "code",
   "execution_count": 129,
   "id": "73da0484",
   "metadata": {
    "cellId": "b7vtj48nc4hgaumtabymq"
   },
   "outputs": [
    {
     "data": {
      "text/plain": [
       "sentence          0\n",
       "1category         0\n",
       "2category     18362\n",
       "sentiment         0\n",
       "clean_text        0\n",
       "dtype: int64"
      ]
     },
     "execution_count": 129,
     "metadata": {},
     "output_type": "execute_result"
    }
   ],
   "source": [
    "train.isnull().sum()"
   ]
  },
  {
   "cell_type": "code",
   "execution_count": 131,
   "id": "89a6085d",
   "metadata": {
    "cellId": "9xjpvbz910982ml89xel7t"
   },
   "outputs": [
    {
     "data": {
      "text/plain": [
       "−    10192\n",
       "+     6262\n",
       "?     2907\n",
       "Name: sentiment, dtype: int64"
      ]
     },
     "execution_count": 131,
     "metadata": {},
     "output_type": "execute_result"
    }
   ],
   "source": [
    "train['sentiment'].value_counts()"
   ]
  },
  {
   "cell_type": "code",
   "execution_count": 112,
   "id": "360ba922",
   "metadata": {
    "cellId": "iv7y0f4jq1o42smsx272gr"
   },
   "outputs": [],
   "source": [
    "labels = ['1category', '2category', 'sentiment']"
   ]
  },
  {
   "cell_type": "code",
   "execution_count": 132,
   "id": "42b5a4f6",
   "metadata": {
    "cellId": "1md95sjubkuz7p2h9f7ogb"
   },
   "outputs": [],
   "source": [
    "# Sentiment classification\n",
    "from sklearn.model_selection import train_test_split\n",
    "X = train['clean_text']\n",
    "y = train['sentiment']\n",
    "\n",
    "\n",
    "X_train, X_test, y_train, y_test = train_test_split(X, y, test_size=0.25, random_state=42)"
   ]
  },
  {
   "cell_type": "code",
   "execution_count": 133,
   "id": "1991f00e",
   "metadata": {
    "cellId": "g47wmzp538b98bwqrrv9sj"
   },
   "outputs": [
    {
     "data": {
      "text/plain": [
       "690                            успешн работ благ альфабанк\n",
       "12486    сотрудник хам присутств управля попустительств...\n",
       "19715    зачет операционист дельн совет респект итподра...\n",
       "3890     ясн дел надоел обслужива банк так некомпетентн...\n",
       "78       счита эт прор лидерств финансов услуг централь...\n",
       "                               ...                        \n",
       "20092                             перв век систематизирова\n",
       "12570    итог счита произвед обма действ сторон банк вы...\n",
       "14108    такж отдельн хоч поблагодар сотрудник банк оче...\n",
       "11515    хамск сказа телефон посмотр внимательн ваш док...\n",
       "21339    эт окол квартир те врем год год сбербанк реш о...\n",
       "Name: clean_text, Length: 14520, dtype: object"
      ]
     },
     "execution_count": 133,
     "metadata": {},
     "output_type": "execute_result"
    }
   ],
   "source": [
    "X_train"
   ]
  },
  {
   "cell_type": "code",
   "execution_count": 134,
   "id": "018e35fc",
   "metadata": {
    "cellId": "smuusnfspjznvaxm608n"
   },
   "outputs": [
    {
     "data": {
      "text/plain": [
       "690      +\n",
       "12486    −\n",
       "19715    +\n",
       "3890     −\n",
       "78       +\n",
       "        ..\n",
       "20092    ?\n",
       "12570    −\n",
       "14108    +\n",
       "11515    −\n",
       "21339    −\n",
       "Name: sentiment, Length: 14520, dtype: object"
      ]
     },
     "execution_count": 134,
     "metadata": {},
     "output_type": "execute_result"
    }
   ],
   "source": [
    "y_train"
   ]
  },
  {
   "cell_type": "code",
   "execution_count": 146,
   "id": "bee86ea3",
   "metadata": {
    "cellId": "fevl62ej367b2gp7d7aa18"
   },
   "outputs": [],
   "source": [
    "from sklearn.feature_extraction.text import CountVectorizer\n",
    "import xgboost as xgb\n",
    "from sklearn.metrics import roc_auc_score"
   ]
  },
  {
   "cell_type": "code",
   "execution_count": 142,
   "id": "e9a63338",
   "metadata": {
    "cellId": "lvxiu3gytghbr5fiflj3g"
   },
   "outputs": [],
   "source": [
    "classifier = xgb.XGBClassifier(objective='multi:softmax')"
   ]
  },
  {
   "cell_type": "code",
   "execution_count": 143,
   "id": "eca862af",
   "metadata": {
    "cellId": "yeqftxkpugq8wasjpgs3fv"
   },
   "outputs": [],
   "source": [
    "vectorizer = CountVectorizer()\n",
    "X_train = vectorizer.fit_transform(X_train)\n",
    "X_test = vectorizer.transform(X_test)"
   ]
  },
  {
   "cell_type": "code",
   "execution_count": 145,
   "id": "def4ad84",
   "metadata": {
    "cellId": "qb1a6v3o7q4xb1zlk5gmu"
   },
   "outputs": [
    {
     "data": {
      "text/plain": [
       "XGBClassifier(base_score=0.5, booster='gbtree', colsample_bylevel=1,\n",
       "              colsample_bynode=1, colsample_bytree=1, gamma=0,\n",
       "              learning_rate=0.1, max_delta_step=0, max_depth=3,\n",
       "              min_child_weight=1, missing=None, n_estimators=100, n_jobs=1,\n",
       "              nthread=None, objective='multi:softprob', random_state=0,\n",
       "              reg_alpha=0, reg_lambda=1, scale_pos_weight=1, seed=None,\n",
       "              silent=None, subsample=1, verbosity=1)"
      ]
     },
     "execution_count": 145,
     "metadata": {},
     "output_type": "execute_result"
    }
   ],
   "source": [
    "classifier.fit(X_train, y_train)"
   ]
  },
  {
   "cell_type": "code",
   "execution_count": 157,
   "id": "6f54e4c8",
   "metadata": {
    "cellId": "7lxzqh3mqfhae0nudkndw"
   },
   "outputs": [
    {
     "data": {
      "text/plain": [
       "0.8481686299354066"
      ]
     },
     "execution_count": 157,
     "metadata": {},
     "output_type": "execute_result"
    }
   ],
   "source": [
    "roc_auc_score(y_test, classifier.predict_proba(X_test), multi_class='ovr')"
   ]
  },
  {
   "cell_type": "code",
   "execution_count": 169,
   "id": "855aaa2f",
   "metadata": {
    "cellId": "13lx180wivag81ead97ie8k"
   },
   "outputs": [],
   "source": [
    "preds = classifier.predict(X_test)"
   ]
  },
  {
   "cell_type": "code",
   "execution_count": 160,
   "id": "c984e8de",
   "metadata": {
    "cellId": "teys8izrexmxw5z51qgysc"
   },
   "outputs": [
    {
     "data": {
      "text/plain": [
       "17308    −\n",
       "17426    −\n",
       "7006     +\n",
       "18169    −\n",
       "21247    −\n",
       "18033    −\n",
       "8757     −\n",
       "4001     −\n",
       "4585     −\n",
       "11221    −\n",
       "7491     −\n",
       "8848     −\n",
       "14783    +\n",
       "1511     ?\n",
       "15483    ?\n",
       "617      +\n",
       "2230     ?\n",
       "17315    −\n",
       "5938     +\n",
       "21440    −\n",
       "Name: sentiment, dtype: object"
      ]
     },
     "execution_count": 160,
     "metadata": {},
     "output_type": "execute_result"
    }
   ],
   "source": [
    "y_test.head(20)"
   ]
  }
 ],
 "metadata": {
  "language_info": {
   "codemirror_mode": {
    "name": "ipython",
    "version": 3
   },
   "file_extension": ".py",
   "mimetype": "text/x-python",
   "name": "python",
   "nbconvert_exporter": "python",
   "pygments_lexer": "ipython3",
   "version": "3.7.7"
  },
  "notebookId": "d238b7b7-2642-4ae3-939c-d112e513f362",
  "notebookPath": "hse_rinat/hsehack_2023/rinat_base.ipynb"
 },
 "nbformat": 4,
 "nbformat_minor": 5
}

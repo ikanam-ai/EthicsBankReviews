{
 "cells": [
  {
   "cell_type": "code",
   "execution_count": 70,
   "id": "4a4add97",
   "metadata": {
    "cellId": "91cfx45ovsit51f2dxx9"
   },
   "outputs": [
    {
     "name": "stderr",
     "output_type": "stream",
     "text": [
      "[nltk_data] Downloading package punkt to /home/jupyter/nltk_data...\n",
      "[nltk_data]   Package punkt is already up-to-date!\n",
      "[nltk_data] Downloading package stopwords to\n",
      "[nltk_data]     /home/jupyter/nltk_data...\n",
      "[nltk_data]   Package stopwords is already up-to-date!\n"
     ]
    },
    {
     "data": {
      "text/plain": [
       "True"
      ]
     },
     "execution_count": 70,
     "metadata": {},
     "output_type": "execute_result"
    }
   ],
   "source": [
    "import numpy as np\n",
    "import pandas as pd\n",
    "import torch\n",
    "import torch.nn as nn\n",
    "import torch.nn.functional as F\n",
    "import torch.optim as optim\n",
    "from torchvision import datasets, transforms\n",
    "from torch.optim.lr_scheduler import StepLR\n",
    "import scipy\n",
    "import plotly.express as px\n",
    "\n",
    "import re\n",
    "\n",
    "import nltk\n",
    "from nltk.corpus import stopwords\n",
    "from nltk.stem.snowball import SnowballStemmer\n",
    "from nltk.tokenize import word_tokenize\n",
    "import re\n",
    "\n",
    "nltk.download('punkt')\n",
    "nltk.download('stopwords')"
   ]
  },
  {
   "cell_type": "code",
   "execution_count": 71,
   "id": "4c3b1cb5",
   "metadata": {
    "cellId": "6dlpcqmdi3dbem72xf9jmv"
   },
   "outputs": [],
   "source": [
    "# sentiment = pd.read_csv('/home/jupyter/mnt/s3/hack-data/hse/sentiment.csv')"
   ]
  },
  {
   "cell_type": "code",
   "execution_count": 72,
   "id": "4359312b",
   "metadata": {
    "cellId": "wi717p8is8qvskar38fxd"
   },
   "outputs": [],
   "source": [
    "# banki = pd.read_csv('/home/jupyter/mnt/s3/hack-data/hse/banki.csv')"
   ]
  },
  {
   "cell_type": "code",
   "execution_count": 73,
   "id": "fcfe1d89",
   "metadata": {
    "cellId": "1hysydgc9amcpq5x8io12"
   },
   "outputs": [],
   "source": [
    "# bank_sentiment = pd.read_csv('/home/jupyter/mnt/s3/hack-data/hse/bank-sentiment.csv')"
   ]
  },
  {
   "cell_type": "code",
   "execution_count": 74,
   "id": "747986b6",
   "metadata": {
    "cellId": "ua6mrifjb1jchi8smrng7m"
   },
   "outputs": [],
   "source": [
    "train = pd.read_csv('/home/jupyter/mnt/s3/hack-data/hse/train.csv', index_col=0)"
   ]
  },
  {
   "cell_type": "code",
   "execution_count": 75,
   "id": "37c5c211",
   "metadata": {
    "cellId": "62kql9ax2j7bl3yds1xew"
   },
   "outputs": [],
   "source": [
    "def preprocess_text(text):\n",
    "    # Convert to lowercase\n",
    "    text = text.lower()\n",
    "    \n",
    "    # Remove URLs\n",
    "    text = re.sub(r'http\\S+', '', text)\n",
    "    \n",
    "    # Remove non-alphabetic characters\n",
    "    text = re.sub(r'[^а-яА-Я\\s]', '', text)\n",
    "    \n",
    "    # Tokenize text\n",
    "    tokens = word_tokenize(text, language='russian')\n",
    "    \n",
    "    # Remove stop words\n",
    "    stop_words = set(stopwords.words('russian'))\n",
    "    tokens = [token for token in tokens if token not in stop_words]\n",
    "    \n",
    "    # Stem tokens\n",
    "    stemmer = SnowballStemmer('russian')\n",
    "    tokens = [stemmer.stem(token) for token in tokens]\n",
    "    \n",
    "    # Join tokens back into a string\n",
    "    text = ' '.join(tokens)\n",
    "    \n",
    "    return text"
   ]
  },
  {
   "cell_type": "code",
   "execution_count": 76,
   "id": "2b787ddc",
   "metadata": {
    "cellId": "fnyc92etsirthwba7pfabc"
   },
   "outputs": [],
   "source": [
    "train['clean_text'] = train['sentence'].apply(preprocess_text)"
   ]
  },
  {
   "cell_type": "code",
   "execution_count": 77,
   "id": "310ecfe9",
   "metadata": {
    "cellId": "9aa8d84qcyed091l9ix42"
   },
   "outputs": [
    {
     "data": {
      "text/plain": [
       "array(['Communication', '?', 'Quality', 'Price', 'Safety'], dtype=object)"
      ]
     },
     "execution_count": 77,
     "metadata": {},
     "output_type": "execute_result"
    }
   ],
   "source": [
    "train['1category'].unique()"
   ]
  },
  {
   "cell_type": "code",
   "execution_count": 78,
   "id": "9c8133e4",
   "metadata": {
    "cellId": "71atjxp1skppnif6wbuuwd"
   },
   "outputs": [
    {
     "data": {
      "text/plain": [
       "array([nan, 'Quality', 'Communication', 'Price', 'Safety'], dtype=object)"
      ]
     },
     "execution_count": 78,
     "metadata": {},
     "output_type": "execute_result"
    }
   ],
   "source": [
    "train['2category'].unique()"
   ]
  },
  {
   "cell_type": "code",
   "execution_count": 79,
   "id": "2b5760e5",
   "metadata": {
    "cellId": "ee886x520wgiv8b4vx2vcq"
   },
   "outputs": [],
   "source": [
    "from sklearn.model_selection import train_test_split\n",
    "from sklearn.preprocessing import OneHotEncoder, LabelEncoder\n",
    "from sklearn.compose import ColumnTransformer"
   ]
  },
  {
   "cell_type": "code",
   "execution_count": 80,
   "id": "d34b507c",
   "metadata": {
    "cellId": "isaxfun9hyep986nm7e58k"
   },
   "outputs": [
    {
     "data": {
      "text/plain": [
       "sentence          0\n",
       "1category         0\n",
       "2category     18362\n",
       "sentiment         0\n",
       "clean_text        0\n",
       "dtype: int64"
      ]
     },
     "execution_count": 80,
     "metadata": {},
     "output_type": "execute_result"
    }
   ],
   "source": [
    "# Fill nan values\n",
    "train.isnull().sum()"
   ]
  },
  {
   "cell_type": "code",
   "execution_count": 81,
   "id": "5dd5f795",
   "metadata": {
    "cellId": "1jfa20vrgc6tfa9ekg8oo"
   },
   "outputs": [],
   "source": [
    "train = train.fillna('?')"
   ]
  },
  {
   "cell_type": "code",
   "execution_count": 82,
   "id": "f139b712",
   "metadata": {
    "cellId": "4vt3ppy4nb70eizs9pmfyjt"
   },
   "outputs": [
    {
     "data": {
      "text/plain": [
       "sentence      0\n",
       "1category     0\n",
       "2category     0\n",
       "sentiment     0\n",
       "clean_text    0\n",
       "dtype: int64"
      ]
     },
     "execution_count": 82,
     "metadata": {},
     "output_type": "execute_result"
    }
   ],
   "source": [
    "train.isnull().sum()"
   ]
  },
  {
   "cell_type": "code",
   "execution_count": 83,
   "id": "ebc2dfac",
   "metadata": {
    "cellId": "9xjpvbz910982ml89xel7t"
   },
   "outputs": [
    {
     "data": {
      "text/html": [
       "<div>\n",
       "<style scoped>\n",
       "    .dataframe tbody tr th:only-of-type {\n",
       "        vertical-align: middle;\n",
       "    }\n",
       "\n",
       "    .dataframe tbody tr th {\n",
       "        vertical-align: top;\n",
       "    }\n",
       "\n",
       "    .dataframe thead th {\n",
       "        text-align: right;\n",
       "    }\n",
       "</style>\n",
       "<table border=\"1\" class=\"dataframe\">\n",
       "  <thead>\n",
       "    <tr style=\"text-align: right;\">\n",
       "      <th></th>\n",
       "      <th>sentence</th>\n",
       "      <th>1category</th>\n",
       "      <th>2category</th>\n",
       "      <th>sentiment</th>\n",
       "      <th>clean_text</th>\n",
       "    </tr>\n",
       "  </thead>\n",
       "  <tbody>\n",
       "    <tr>\n",
       "      <th>4754</th>\n",
       "      <td>При этом всегда получал качественные услуги.</td>\n",
       "      <td>Communication</td>\n",
       "      <td>?</td>\n",
       "      <td>+</td>\n",
       "      <td>получа качествен услуг</td>\n",
       "    </tr>\n",
       "    <tr>\n",
       "      <th>4417</th>\n",
       "      <td>Не вижу, за что хотя бы 2 поставить, сервис на 1!</td>\n",
       "      <td>?</td>\n",
       "      <td>?</td>\n",
       "      <td>−</td>\n",
       "      <td>виж хот постав сервис</td>\n",
       "    </tr>\n",
       "    <tr>\n",
       "      <th>3629</th>\n",
       "      <td>Вот так \"Мой любимый\" банк МКБ меня обманул.</td>\n",
       "      <td>?</td>\n",
       "      <td>?</td>\n",
       "      <td>−</td>\n",
       "      <td>любим банк мкб обманул</td>\n",
       "    </tr>\n",
       "    <tr>\n",
       "      <th>11640</th>\n",
       "      <td>Отвратительное отношение к клиентам.</td>\n",
       "      <td>Communication</td>\n",
       "      <td>?</td>\n",
       "      <td>−</td>\n",
       "      <td>отвратительн отношен клиент</td>\n",
       "    </tr>\n",
       "    <tr>\n",
       "      <th>5571</th>\n",
       "      <td>Всегда в любое время дня и ночи помогут, ответ...</td>\n",
       "      <td>Communication</td>\n",
       "      <td>?</td>\n",
       "      <td>+</td>\n",
       "      <td>люб врем дня ноч помогут ответ решат</td>\n",
       "    </tr>\n",
       "    <tr>\n",
       "      <th>...</th>\n",
       "      <td>...</td>\n",
       "      <td>...</td>\n",
       "      <td>...</td>\n",
       "      <td>...</td>\n",
       "      <td>...</td>\n",
       "    </tr>\n",
       "    <tr>\n",
       "      <th>8004</th>\n",
       "      <td>Никогда и ни в коем случае не открывайте счет ...</td>\n",
       "      <td>Communication</td>\n",
       "      <td>?</td>\n",
       "      <td>−</td>\n",
       "      <td>ко случа открыва счет недостойн довер банк кот...</td>\n",
       "    </tr>\n",
       "    <tr>\n",
       "      <th>18182</th>\n",
       "      <td>ТИ откровенно забили на качество и развивают с...</td>\n",
       "      <td>Quality</td>\n",
       "      <td>?</td>\n",
       "      <td>−</td>\n",
       "      <td>ти откровен заб качеств развива сво мег классн...</td>\n",
       "    </tr>\n",
       "    <tr>\n",
       "      <th>744</th>\n",
       "      <td>Я считаю, это прорыв и лидерство финансовых ус...</td>\n",
       "      <td>?</td>\n",
       "      <td>?</td>\n",
       "      <td>+</td>\n",
       "      <td>счита эт прор лидерств финансов услуг централь...</td>\n",
       "    </tr>\n",
       "    <tr>\n",
       "      <th>6220</th>\n",
       "      <td>Писал мужчина очень доходчиво, не финансовым я...</td>\n",
       "      <td>Communication</td>\n",
       "      <td>?</td>\n",
       "      <td>+</td>\n",
       "      <td>писа мужчин очен доходчив финансов язык работа...</td>\n",
       "    </tr>\n",
       "    <tr>\n",
       "      <th>8433</th>\n",
       "      <td>Данная ситуация меня сильно выбила из колеи, и...</td>\n",
       "      <td>Communication</td>\n",
       "      <td>?</td>\n",
       "      <td>−</td>\n",
       "      <td>дан ситуац сильн выб кол вмест занима здоров с...</td>\n",
       "    </tr>\n",
       "  </tbody>\n",
       "</table>\n",
       "<p>19361 rows × 5 columns</p>\n",
       "</div>"
      ],
      "text/plain": [
       "                                                sentence  ...                                         clean_text\n",
       "4754        При этом всегда получал качественные услуги.  ...                             получа качествен услуг\n",
       "4417   Не вижу, за что хотя бы 2 поставить, сервис на 1!  ...                              виж хот постав сервис\n",
       "3629        Вот так \"Мой любимый\" банк МКБ меня обманул.  ...                             любим банк мкб обманул\n",
       "11640               Отвратительное отношение к клиентам.  ...                        отвратительн отношен клиент\n",
       "5571   Всегда в любое время дня и ночи помогут, ответ...  ...               люб врем дня ноч помогут ответ решат\n",
       "...                                                  ...  ...                                                ...\n",
       "8004   Никогда и ни в коем случае не открывайте счет ...  ...  ко случа открыва счет недостойн довер банк кот...\n",
       "18182  ТИ откровенно забили на качество и развивают с...  ...  ти откровен заб качеств развива сво мег классн...\n",
       "744    Я считаю, это прорыв и лидерство финансовых ус...  ...  счита эт прор лидерств финансов услуг централь...\n",
       "6220   Писал мужчина очень доходчиво, не финансовым я...  ...  писа мужчин очен доходчив финансов язык работа...\n",
       "8433   Данная ситуация меня сильно выбила из колеи, и...  ...  дан ситуац сильн выб кол вмест занима здоров с...\n",
       "\n",
       "[19361 rows x 5 columns]"
      ]
     },
     "execution_count": 83,
     "metadata": {},
     "output_type": "execute_result"
    }
   ],
   "source": [
    "train"
   ]
  },
  {
   "cell_type": "code",
   "execution_count": 84,
   "id": "4256106b",
   "metadata": {
    "cellId": "6hoq7wg4piq7s3031310mj"
   },
   "outputs": [],
   "source": [
    "columns_onehot = ['1category', '2category']"
   ]
  },
  {
   "cell_type": "code",
   "execution_count": 85,
   "id": "5ebc11b6",
   "metadata": {
    "cellId": "1z4886axkvz9a7qdxfeoi"
   },
   "outputs": [
    {
     "data": {
      "text/plain": [
       "['encoded_data__x0_?',\n",
       " 'encoded_data__x0_Communication',\n",
       " 'encoded_data__x0_Price',\n",
       " 'encoded_data__x0_Quality',\n",
       " 'encoded_data__x0_Safety',\n",
       " 'encoded_data__x1_?',\n",
       " 'encoded_data__x1_Communication',\n",
       " 'encoded_data__x1_Price',\n",
       " 'encoded_data__x1_Quality',\n",
       " 'encoded_data__x1_Safety']"
      ]
     },
     "execution_count": 85,
     "metadata": {},
     "output_type": "execute_result"
    }
   ],
   "source": [
    "ctransformer = ColumnTransformer([(\"encoded_data\", OneHotEncoder(handle_unknown='ignore', sparse=False), columns_onehot),])\n",
    "ct_encoded_results = ctransformer.fit_transform(train)\n",
    "# Get Feature Names of Encoded columns\n",
    "ctransformer.get_feature_names()"
   ]
  },
  {
   "cell_type": "code",
   "execution_count": 86,
   "id": "13cb392f",
   "metadata": {
    "cellId": "eoz58qdamcu2i9odxdevqh"
   },
   "outputs": [],
   "source": [
    "df_ct_encoded_data = pd.DataFrame(ct_encoded_results, columns=ctransformer.get_feature_names())\n",
    "# Viewing first few rows of data\n",
    "\n",
    "df = pd.concat([train.reset_index(drop=True), df_ct_encoded_data.reset_index(drop=True)], axis=1)\n",
    "# Dropping drive-wheels, make and engine-location columns as they are encoded\n",
    "df.drop(columns_onehot, inplace=True, axis=1)\n",
    "# Viewing few rows of data"
   ]
  },
  {
   "cell_type": "code",
   "execution_count": 87,
   "id": "fd7c89c7",
   "metadata": {
    "cellId": "cedz1y8knzrq3b4rdxth99"
   },
   "outputs": [
    {
     "data": {
      "text/html": [
       "<div>\n",
       "<style scoped>\n",
       "    .dataframe tbody tr th:only-of-type {\n",
       "        vertical-align: middle;\n",
       "    }\n",
       "\n",
       "    .dataframe tbody tr th {\n",
       "        vertical-align: top;\n",
       "    }\n",
       "\n",
       "    .dataframe thead th {\n",
       "        text-align: right;\n",
       "    }\n",
       "</style>\n",
       "<table border=\"1\" class=\"dataframe\">\n",
       "  <thead>\n",
       "    <tr style=\"text-align: right;\">\n",
       "      <th></th>\n",
       "      <th>sentence</th>\n",
       "      <th>1category</th>\n",
       "      <th>2category</th>\n",
       "      <th>sentiment</th>\n",
       "      <th>clean_text</th>\n",
       "    </tr>\n",
       "  </thead>\n",
       "  <tbody>\n",
       "    <tr>\n",
       "      <th>4754</th>\n",
       "      <td>При этом всегда получал качественные услуги.</td>\n",
       "      <td>Communication</td>\n",
       "      <td>?</td>\n",
       "      <td>+</td>\n",
       "      <td>получа качествен услуг</td>\n",
       "    </tr>\n",
       "    <tr>\n",
       "      <th>4417</th>\n",
       "      <td>Не вижу, за что хотя бы 2 поставить, сервис на 1!</td>\n",
       "      <td>?</td>\n",
       "      <td>?</td>\n",
       "      <td>−</td>\n",
       "      <td>виж хот постав сервис</td>\n",
       "    </tr>\n",
       "    <tr>\n",
       "      <th>3629</th>\n",
       "      <td>Вот так \"Мой любимый\" банк МКБ меня обманул.</td>\n",
       "      <td>?</td>\n",
       "      <td>?</td>\n",
       "      <td>−</td>\n",
       "      <td>любим банк мкб обманул</td>\n",
       "    </tr>\n",
       "    <tr>\n",
       "      <th>11640</th>\n",
       "      <td>Отвратительное отношение к клиентам.</td>\n",
       "      <td>Communication</td>\n",
       "      <td>?</td>\n",
       "      <td>−</td>\n",
       "      <td>отвратительн отношен клиент</td>\n",
       "    </tr>\n",
       "    <tr>\n",
       "      <th>5571</th>\n",
       "      <td>Всегда в любое время дня и ночи помогут, ответ...</td>\n",
       "      <td>Communication</td>\n",
       "      <td>?</td>\n",
       "      <td>+</td>\n",
       "      <td>люб врем дня ноч помогут ответ решат</td>\n",
       "    </tr>\n",
       "    <tr>\n",
       "      <th>...</th>\n",
       "      <td>...</td>\n",
       "      <td>...</td>\n",
       "      <td>...</td>\n",
       "      <td>...</td>\n",
       "      <td>...</td>\n",
       "    </tr>\n",
       "    <tr>\n",
       "      <th>8004</th>\n",
       "      <td>Никогда и ни в коем случае не открывайте счет ...</td>\n",
       "      <td>Communication</td>\n",
       "      <td>?</td>\n",
       "      <td>−</td>\n",
       "      <td>ко случа открыва счет недостойн довер банк кот...</td>\n",
       "    </tr>\n",
       "    <tr>\n",
       "      <th>18182</th>\n",
       "      <td>ТИ откровенно забили на качество и развивают с...</td>\n",
       "      <td>Quality</td>\n",
       "      <td>?</td>\n",
       "      <td>−</td>\n",
       "      <td>ти откровен заб качеств развива сво мег классн...</td>\n",
       "    </tr>\n",
       "    <tr>\n",
       "      <th>744</th>\n",
       "      <td>Я считаю, это прорыв и лидерство финансовых ус...</td>\n",
       "      <td>?</td>\n",
       "      <td>?</td>\n",
       "      <td>+</td>\n",
       "      <td>счита эт прор лидерств финансов услуг централь...</td>\n",
       "    </tr>\n",
       "    <tr>\n",
       "      <th>6220</th>\n",
       "      <td>Писал мужчина очень доходчиво, не финансовым я...</td>\n",
       "      <td>Communication</td>\n",
       "      <td>?</td>\n",
       "      <td>+</td>\n",
       "      <td>писа мужчин очен доходчив финансов язык работа...</td>\n",
       "    </tr>\n",
       "    <tr>\n",
       "      <th>8433</th>\n",
       "      <td>Данная ситуация меня сильно выбила из колеи, и...</td>\n",
       "      <td>Communication</td>\n",
       "      <td>?</td>\n",
       "      <td>−</td>\n",
       "      <td>дан ситуац сильн выб кол вмест занима здоров с...</td>\n",
       "    </tr>\n",
       "  </tbody>\n",
       "</table>\n",
       "<p>19361 rows × 5 columns</p>\n",
       "</div>"
      ],
      "text/plain": [
       "                                                sentence  ...                                         clean_text\n",
       "4754        При этом всегда получал качественные услуги.  ...                             получа качествен услуг\n",
       "4417   Не вижу, за что хотя бы 2 поставить, сервис на 1!  ...                              виж хот постав сервис\n",
       "3629        Вот так \"Мой любимый\" банк МКБ меня обманул.  ...                             любим банк мкб обманул\n",
       "11640               Отвратительное отношение к клиентам.  ...                        отвратительн отношен клиент\n",
       "5571   Всегда в любое время дня и ночи помогут, ответ...  ...               люб врем дня ноч помогут ответ решат\n",
       "...                                                  ...  ...                                                ...\n",
       "8004   Никогда и ни в коем случае не открывайте счет ...  ...  ко случа открыва счет недостойн довер банк кот...\n",
       "18182  ТИ откровенно забили на качество и развивают с...  ...  ти откровен заб качеств развива сво мег классн...\n",
       "744    Я считаю, это прорыв и лидерство финансовых ус...  ...  счита эт прор лидерств финансов услуг централь...\n",
       "6220   Писал мужчина очень доходчиво, не финансовым я...  ...  писа мужчин очен доходчив финансов язык работа...\n",
       "8433   Данная ситуация меня сильно выбила из колеи, и...  ...  дан ситуац сильн выб кол вмест занима здоров с...\n",
       "\n",
       "[19361 rows x 5 columns]"
      ]
     },
     "execution_count": 87,
     "metadata": {},
     "output_type": "execute_result"
    }
   ],
   "source": [
    "train"
   ]
  },
  {
   "cell_type": "code",
   "execution_count": 89,
   "id": "7d5ce1c7",
   "metadata": {
    "cellId": "w5c3fvhes1ocq1334fdkm"
   },
   "outputs": [
    {
     "data": {
      "text/html": [
       "<div>\n",
       "<style scoped>\n",
       "    .dataframe tbody tr th:only-of-type {\n",
       "        vertical-align: middle;\n",
       "    }\n",
       "\n",
       "    .dataframe tbody tr th {\n",
       "        vertical-align: top;\n",
       "    }\n",
       "\n",
       "    .dataframe thead th {\n",
       "        text-align: right;\n",
       "    }\n",
       "</style>\n",
       "<table border=\"1\" class=\"dataframe\">\n",
       "  <thead>\n",
       "    <tr style=\"text-align: right;\">\n",
       "      <th></th>\n",
       "      <th>sentence</th>\n",
       "      <th>sentiment</th>\n",
       "      <th>clean_text</th>\n",
       "      <th>encoded_data__x0_?</th>\n",
       "      <th>encoded_data__x0_Communication</th>\n",
       "      <th>encoded_data__x0_Price</th>\n",
       "      <th>encoded_data__x0_Quality</th>\n",
       "      <th>encoded_data__x0_Safety</th>\n",
       "      <th>encoded_data__x1_?</th>\n",
       "      <th>encoded_data__x1_Communication</th>\n",
       "      <th>encoded_data__x1_Price</th>\n",
       "      <th>encoded_data__x1_Quality</th>\n",
       "      <th>encoded_data__x1_Safety</th>\n",
       "    </tr>\n",
       "  </thead>\n",
       "  <tbody>\n",
       "    <tr>\n",
       "      <th>0</th>\n",
       "      <td>При этом всегда получал качественные услуги.</td>\n",
       "      <td>+</td>\n",
       "      <td>получа качествен услуг</td>\n",
       "      <td>0.0</td>\n",
       "      <td>1.0</td>\n",
       "      <td>0.0</td>\n",
       "      <td>0.0</td>\n",
       "      <td>0.0</td>\n",
       "      <td>1.0</td>\n",
       "      <td>0.0</td>\n",
       "      <td>0.0</td>\n",
       "      <td>0.0</td>\n",
       "      <td>0.0</td>\n",
       "    </tr>\n",
       "    <tr>\n",
       "      <th>1</th>\n",
       "      <td>Не вижу, за что хотя бы 2 поставить, сервис на 1!</td>\n",
       "      <td>−</td>\n",
       "      <td>виж хот постав сервис</td>\n",
       "      <td>1.0</td>\n",
       "      <td>0.0</td>\n",
       "      <td>0.0</td>\n",
       "      <td>0.0</td>\n",
       "      <td>0.0</td>\n",
       "      <td>1.0</td>\n",
       "      <td>0.0</td>\n",
       "      <td>0.0</td>\n",
       "      <td>0.0</td>\n",
       "      <td>0.0</td>\n",
       "    </tr>\n",
       "    <tr>\n",
       "      <th>2</th>\n",
       "      <td>Вот так \"Мой любимый\" банк МКБ меня обманул.</td>\n",
       "      <td>−</td>\n",
       "      <td>любим банк мкб обманул</td>\n",
       "      <td>1.0</td>\n",
       "      <td>0.0</td>\n",
       "      <td>0.0</td>\n",
       "      <td>0.0</td>\n",
       "      <td>0.0</td>\n",
       "      <td>1.0</td>\n",
       "      <td>0.0</td>\n",
       "      <td>0.0</td>\n",
       "      <td>0.0</td>\n",
       "      <td>0.0</td>\n",
       "    </tr>\n",
       "    <tr>\n",
       "      <th>3</th>\n",
       "      <td>Отвратительное отношение к клиентам.</td>\n",
       "      <td>−</td>\n",
       "      <td>отвратительн отношен клиент</td>\n",
       "      <td>0.0</td>\n",
       "      <td>1.0</td>\n",
       "      <td>0.0</td>\n",
       "      <td>0.0</td>\n",
       "      <td>0.0</td>\n",
       "      <td>1.0</td>\n",
       "      <td>0.0</td>\n",
       "      <td>0.0</td>\n",
       "      <td>0.0</td>\n",
       "      <td>0.0</td>\n",
       "    </tr>\n",
       "    <tr>\n",
       "      <th>4</th>\n",
       "      <td>Всегда в любое время дня и ночи помогут, ответ...</td>\n",
       "      <td>+</td>\n",
       "      <td>люб врем дня ноч помогут ответ решат</td>\n",
       "      <td>0.0</td>\n",
       "      <td>1.0</td>\n",
       "      <td>0.0</td>\n",
       "      <td>0.0</td>\n",
       "      <td>0.0</td>\n",
       "      <td>1.0</td>\n",
       "      <td>0.0</td>\n",
       "      <td>0.0</td>\n",
       "      <td>0.0</td>\n",
       "      <td>0.0</td>\n",
       "    </tr>\n",
       "  </tbody>\n",
       "</table>\n",
       "</div>"
      ],
      "text/plain": [
       "                                            sentence  ... encoded_data__x1_Safety\n",
       "0       При этом всегда получал качественные услуги.  ...                     0.0\n",
       "1  Не вижу, за что хотя бы 2 поставить, сервис на 1!  ...                     0.0\n",
       "2       Вот так \"Мой любимый\" банк МКБ меня обманул.  ...                     0.0\n",
       "3               Отвратительное отношение к клиентам.  ...                     0.0\n",
       "4  Всегда в любое время дня и ночи помогут, ответ...  ...                     0.0\n",
       "\n",
       "[5 rows x 13 columns]"
      ]
     },
     "execution_count": 89,
     "metadata": {},
     "output_type": "execute_result"
    }
   ],
   "source": [
    "df.head()"
   ]
  },
  {
   "cell_type": "code",
   "execution_count": null,
   "id": "72ec3adf",
   "metadata": {
    "cellId": "b3a3sl8aphaf31zsyydp4b"
   },
   "outputs": [],
   "source": []
  }
 ],
 "metadata": {
  "language_info": {
   "codemirror_mode": {
    "name": "ipython",
    "version": 3
   },
   "file_extension": ".py",
   "mimetype": "text/x-python",
   "name": "python",
   "nbconvert_exporter": "python",
   "pygments_lexer": "ipython3",
   "version": "3.7.7"
  },
  "notebookId": "d238b7b7-2642-4ae3-939c-d112e513f362",
  "notebookPath": "hse_rinat/hsehack_2023/rinat_base.ipynb"
 },
 "nbformat": 4,
 "nbformat_minor": 5
}

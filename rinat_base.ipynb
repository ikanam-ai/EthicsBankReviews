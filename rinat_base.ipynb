{
  "nbformat" : 4,
  "nbformat_minor" : 5,
  "metadata" : {
    "notebookPath" : "hse_rinat/hsehack_2023/Untitled.ipynb",
    "notebookId" : "d238b7b7-2642-4ae3-939c-d112e513f362",
    "kernelspec" : {
      "name" : "python3",
      "description" : "IPython kernel implementation for DataSphere",
      "spec" : {
        "language" : "python",
        "display_name" : "DataSphere Kernel",
        "codemirror_mode" : "python",
        "argv" : [ "/bin/true" ],
        "env" : { },
        "help_links" : [ ],
        "metadata" : {
          "app" : "YANDEX_DATASPHERE"
        }
      },
      "resources" : { },
      "display_name" : "DataSphere Kernel"
    }
  },
  "cells" : [ ]
}
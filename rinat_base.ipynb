{
 "cells": [
  {
   "cell_type": "code",
   "execution_count": 1,
   "id": "72d5bddf",
   "metadata": {
    "cellId": "91cfx45ovsit51f2dxx9"
   },
   "outputs": [],
   "source": [
    "import numpy as np\n",
    "import pandas as pd\n",
    "import torch\n",
    "import torch.nn as nn\n",
    "import torch.nn.functional as F\n",
    "import torch.optim as optim\n",
    "from torchvision import datasets, transforms\n",
    "from torch.optim.lr_scheduler import StepLR\n",
    "import scipy\n",
    "import plotly.express as px"
   ]
  },
  {
   "cell_type": "code",
   "execution_count": null,
   "id": "b87db3bb",
   "metadata": {
    "cellId": "6dlpcqmdi3dbem72xf9jmv"
   },
   "outputs": [],
   "source": []
  }
 ],
 "metadata": {
  "language_info": {
   "codemirror_mode": {
    "name": "ipython",
    "version": 3
   },
   "file_extension": ".py",
   "mimetype": "text/x-python",
   "name": "python",
   "nbconvert_exporter": "python",
   "pygments_lexer": "ipython3",
   "version": "3.7.7"
  },
  "notebookId": "d238b7b7-2642-4ae3-939c-d112e513f362",
  "notebookPath": "hse_rinat/hsehack_2023/Untitled.ipynb"
 },
 "nbformat": 4,
 "nbformat_minor": 5
}
